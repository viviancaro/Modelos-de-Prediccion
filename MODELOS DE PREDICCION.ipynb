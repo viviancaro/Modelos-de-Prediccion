{
 "cells": [
  {
   "cell_type": "markdown",
   "metadata": {},
   "source": [
    "# Predicción de precios de las propiedades"
   ]
  },
  {
   "cell_type": "markdown",
   "metadata": {},
   "source": [
    "En este tercer proyecto, se seguirá trabajando con el dataset de propiedades en venta publicadas en el portal [Properati](www.properati.com.ar). El objetivo es armar un primer y sencillo modelo para predecir el precio de las propiedades en dólares.\n",
    "\n",
    "Para empezar esta predicción se agregan las columnas:\n",
    "* 'barrios_match': donde la coincidencia del barrio publicado con el barrio geográfico equivale a 1, si no equivale a 0.\n",
    "* 'PH', 'apartment', 'house': variables binarias que indican el tipo de propiedad, creadas en el proyecto \"Limpieza y transformación de datos.\n",
    "* dummies de barrios: variables binarias con 1 o 0 según el barrio.\n",
    "\n",
    "La métrica que se utiliza para medir es RMSE (raíz del error cuadrático medio), cuya fórmula es:\n",
    "\n",
    "$$RMSE = \\sqrt{\\frac{\\sum_{t=1}^n (\\hat y_t - y_t)^2}{n}}$$"
   ]
  },
  {
   "cell_type": "markdown",
   "metadata": {},
   "source": [
    "El objetivo principal de este proyecto es trabajar en el ajuste de modelos y su posterior evaluación."
   ]
  },
  {
   "cell_type": "code",
   "execution_count": 20,
   "metadata": {},
   "outputs": [
    {
     "data": {
      "text/plain": [
       "(6376, 59)"
      ]
     },
     "execution_count": 20,
     "metadata": {},
     "output_type": "execute_result"
    }
   ],
   "source": [
    "import pandas as pd\n",
    "import numpy as np\n",
    "pd.set_option('display.float_format', lambda x: '%.3f' % x)\n",
    "path_dataset = 'dataset/datos_properati_limpios_model.csv'\n",
    "df = pd.read_csv(path_dataset)\n",
    "df.shape"
   ]
  },
  {
   "cell_type": "code",
   "execution_count": 21,
   "metadata": {},
   "outputs": [
    {
     "name": "stdout",
     "output_type": "stream",
     "text": [
      "El dataset que vamos a trabajar aquí tiene 6376 observaciones\n"
     ]
    }
   ],
   "source": [
    "print(\"El dataset que vamos a trabajar aquí tiene {} observaciones\".format(df.shape[0]))"
   ]
  },
  {
   "cell_type": "markdown",
   "metadata": {},
   "source": [
    "Para empezar se divide el dataset en un conjunto de entrenamiento, para el cual será utilizado el 80% de los datos y un conjunto de testeo con el restante 20%."
   ]
  },
  {
   "cell_type": "code",
   "execution_count": 22,
   "metadata": {},
   "outputs": [],
   "source": [
    "X = df.drop(['price_aprox_usd'], axis=1)\n",
    "y = df['price_aprox_usd']\n",
    "\n",
    "from sklearn.model_selection import train_test_split\n",
    "X_train, X_test, y_train, y_test = train_test_split(X, y, test_size=0.2)"
   ]
  },
  {
   "cell_type": "code",
   "execution_count": 23,
   "metadata": {},
   "outputs": [
    {
     "name": "stdout",
     "output_type": "stream",
     "text": [
      "(5100, 58)\n",
      "(1276, 58)\n",
      "(5100,)\n",
      "(1276,)\n"
     ]
    }
   ],
   "source": [
    "print(X_train.shape)\n",
    "print(X_test.shape)\n",
    "print(y_train.shape)\n",
    "print(y_test.shape)"
   ]
  },
  {
   "cell_type": "markdown",
   "metadata": {},
   "source": [
    "<h2><center>Árboles de Decisión</center></h2>\n",
    "El primer modelo que se entrenará es un árbol de decisión utilizando al RMSE (root mean square error) como métrica. Para poder obtener el RMSE se mide el MSE (mean_squared_error) y se obtiene su raíz cuadrada. \n",
    "\n",
    "Se importa el DecisionTreeRegressor desde la librería sklearn.tree y a continuación se entrena el regresor con el conjunto de training."
   ]
  },
  {
   "cell_type": "code",
   "execution_count": 24,
   "metadata": {},
   "outputs": [
    {
     "name": "stdout",
     "output_type": "stream",
     "text": [
      "The model training score is 0.9996379725515728\n"
     ]
    }
   ],
   "source": [
    "from sklearn.tree import DecisionTreeRegressor\n",
    "tree_reg = DecisionTreeRegressor(criterion = 'mse', random_state=0)\n",
    "tree_reg.fit(X_train, y_train)\n",
    "print(\"The model training score is\" , tree_reg.score(X_train, y_train))"
   ]
  },
  {
   "cell_type": "markdown",
   "metadata": {},
   "source": [
    "Con el modelo entrenado se realiza la predicción sobre el conjunto de test y se guarda el resultado en la variable creada 'y_pred'."
   ]
  },
  {
   "cell_type": "code",
   "execution_count": 25,
   "metadata": {},
   "outputs": [
    {
     "name": "stdout",
     "output_type": "stream",
     "text": [
      "The model test score is 0.37683102993492557\n"
     ]
    }
   ],
   "source": [
    "tree_reg_predict = tree_reg.predict(X_test)\n",
    "y_pred = tree_reg_predict\n",
    "print(\"The model test score is\" , tree_reg.score(X_test, y_test))"
   ]
  },
  {
   "cell_type": "markdown",
   "metadata": {},
   "source": [
    "Se calcula el RMSE sacando la raíz cuadrada del mean_squared_error entre 'y_test' e 'y_pred' y se muestra el resultado a continuación:"
   ]
  },
  {
   "cell_type": "code",
   "execution_count": 26,
   "metadata": {},
   "outputs": [
    {
     "data": {
      "text/plain": [
       "25488.868711874235"
      ]
     },
     "execution_count": 26,
     "metadata": {},
     "output_type": "execute_result"
    }
   ],
   "source": [
    "from sklearn.metrics import mean_squared_error\n",
    "mse = mean_squared_error(y_test, y_pred)\n",
    "rmse = np.sqrt(mse)\n",
    "rmse"
   ]
  },
  {
   "cell_type": "markdown",
   "metadata": {},
   "source": [
    "### Profundidad del árbol de decisión\n",
    "Se analiza el cambio en el RMSE a medida que es más profundo el árbol de decisión, tanto en training como en testing.\n",
    "\n",
    "En este caso se decidió iterar de de 5 en 5 en el parámetro 'max_depth' y se observa como impacta en el RMSE. Los valores de cada profundidad son guardados en dos arreglos creados con este fin que son: 'rmses_train' y 'rmses_test' respectivamente."
   ]
  },
  {
   "cell_type": "code",
   "execution_count": 27,
   "metadata": {},
   "outputs": [
    {
     "name": "stdout",
     "output_type": "stream",
     "text": [
      "[26609.89436754833, 20382.209795733415, 14635.979739737395, 7696.503784241797, 3243.62625035064, 1055.3203350402935]\n",
      "[27117.012791354482, 21553.59811383829, 22212.77609998383, 24829.72457672366, 25964.02179852559, 25202.74893436961]\n"
     ]
    }
   ],
   "source": [
    "rmses_train = []\n",
    "rmses_test = []\n",
    "max_depth_range = list(range(1, 30, 5))\n",
    "for depth in max_depth_range:\n",
    "    \n",
    "    tree_reg = DecisionTreeRegressor( max_depth=depth, random_state=0)\n",
    "    tree_reg.fit(X_train, y_train)    \n",
    "    y_pred1 = tree_reg.predict(X_train)\n",
    "    train_mse = mean_squared_error(y_train, y_pred1)\n",
    "    rmses_train.append(np.sqrt(train_mse))\n",
    "    y_pred = tree_reg.predict(X_test)\n",
    "    test_mse = mean_squared_error(y_test, y_pred)\n",
    "    rmses_test.append(np.sqrt(test_mse))      \n",
    "    \n",
    "print(rmses_train)\n",
    "print(rmses_test)"
   ]
  },
  {
   "cell_type": "markdown",
   "metadata": {},
   "source": [
    "Visualizamos en un plot los valores guardados en los arreglos 'rmses_train' y 'rmses_test'."
   ]
  },
  {
   "cell_type": "code",
   "execution_count": 28,
   "metadata": {
    "scrolled": true
   },
   "outputs": [
    {
     "data": {
      "image/png": "[encoded data removed]",
      "text/plain": [
       "<Figure size 432x288 with 1 Axes>"
      ]
     },
     "metadata": {
      "needs_background": "light"
     },
     "output_type": "display_data"
    }
   ],
   "source": [
    "import matplotlib.pyplot as plt\n",
    "%matplotlib inline \n",
    "plt.plot(list(range(1,30, 5)), rmses_train, label='RMSE Training')\n",
    "plt.plot(list(range(1,30, 5)), rmses_test, label='RMSE Testing')\n",
    "plt.ylim((0, 30000))\n",
    "plt.legend(loc=\"best\")\n",
    "plt.title(\"RMSE Training vs RMSE Testing para árboles de decisión\")\n",
    "plt.show()"
   ]
  },
  {
   "cell_type": "markdown",
   "metadata": {},
   "source": [
    "Gracias a este gráfico podemos ver que el modelo presenta sobreajuste, que a mayor complejidad (mayor profundidad del árbol, en este caso) más diferencia entre los resultados de training y testing. También se observa como la curva de testing decrece y luego vuelvo a crecer. El punto donde se minimiza está relacionado con el tradeoff entre sesgo y varianza."
   ]
  },
  {
   "cell_type": "markdown",
   "metadata": {},
   "source": [
    "<h2><center>K-Nearest Neighbors</center></h2>\n",
    "En este punto se entrena un modelo KNN y nuevamente se mide el RMSE en el conjunto de testing."
   ]
  },
  {
   "cell_type": "code",
   "execution_count": 29,
   "metadata": {},
   "outputs": [],
   "source": [
    "from sklearn.neighbors import KNeighborsRegressor\n",
    "knn_reg = KNeighborsRegressor()\n",
    "knn_reg.fit(X_train, y_train)\n",
    "knn_reg_predict = tree_reg.predict(X_test)\n",
    "y_pred = tree_reg_predict"
   ]
  },
  {
   "cell_type": "code",
   "execution_count": 30,
   "metadata": {},
   "outputs": [
    {
     "data": {
      "text/plain": [
       "25488.868711874235"
      ]
     },
     "execution_count": 30,
     "metadata": {},
     "output_type": "execute_result"
    }
   ],
   "source": [
    "mse = mean_squared_error(y_test, y_pred)\n",
    "rmse = np.sqrt(mse)\n",
    "rmse"
   ]
  },
  {
   "cell_type": "markdown",
   "metadata": {},
   "source": [
    "Como en el caso anterior, se analiza el cambio en el RMSE a medida que son considerados más vecinos para KNN, tanto en training como en testing. Para esto, se itera incrementando de a uno el parámetro 'n_neighbors' y se observa el impacto en el RMSE. \n",
    "\n",
    "Se repite el proceso con los arreglos 'rmses_train' y 'rmses_test' para cada profundidad y se grafican."
   ]
  },
  {
   "cell_type": "code",
   "execution_count": 31,
   "metadata": {},
   "outputs": [
    {
     "name": "stdout",
     "output_type": "stream",
     "text": [
      "[808.7614367467254, 13541.384633338765, 16301.289430204964, 17820.620147941954, 18633.583124475565, 19329.766298113245, 19738.92842265714, 20102.95076556128, 20410.85009536354, 20612.138623933963, 20851.648741358757, 21015.095123233576, 21161.844784613288, 21305.152123136424, 21428.585266371287, 21543.451438699652, 21622.22688380982, 21736.27889718035, 21837.692245413047, 21911.129623496992, 21997.594927375743, 22077.105860819232, 22146.255192271245, 22213.87697128879, 22293.637891287235, 22355.455538408067, 22405.60239655632, 22458.29675463643, 22505.88588900403]\n",
      "[27549.404244125337, 24763.46327559512, 23616.334094871785, 23400.83198140418, 23037.968959065478, 22845.55247681032, 22836.39264981179, 22842.449149028365, 22918.70050229542, 22912.973341314286, 22934.441591752955, 22990.874848037023, 23088.155465058913, 23099.929292230292, 23088.94331295892, 23091.944530037305, 23079.309513522938, 23119.921735862972, 23135.408439818424, 23165.091661596958, 23204.645879571024, 23222.429733192275, 23187.039054002296, 23211.007308285047, 23192.82750342559, 23227.952033598904, 23249.568300677252, 23294.057961593182, 23289.513797176995]\n"
     ]
    }
   ],
   "source": [
    "rmses_train = []\n",
    "rmses_test = []\n",
    "n_neighbors_range = list(range(1, 30, 1))\n",
    "for neighbors in n_neighbors_range:\n",
    "    \n",
    "    knn_reg = KNeighborsRegressor(n_neighbors= neighbors)\n",
    "    knn_reg.fit(X_train, y_train)    \n",
    "    y_pred1 = knn_reg.predict(X_train)\n",
    "    train_mse = mean_squared_error(y_train, y_pred1)\n",
    "    rmses_train.append(np.sqrt(train_mse))\n",
    "    y_pred = knn_reg.predict(X_test)\n",
    "    test_mse = mean_squared_error(y_test, y_pred)\n",
    "    rmses_test.append(np.sqrt(test_mse))      \n",
    "    \n",
    "print(rmses_train)\n",
    "print(rmses_test)"
   ]
  },
  {
   "cell_type": "code",
   "execution_count": 32,
   "metadata": {},
   "outputs": [
    {
     "data": {
      "image/png": "[encoded data removed]",
      "text/plain": [
       "<Figure size 432x288 with 1 Axes>"
      ]
     },
     "metadata": {
      "needs_background": "light"
     },
     "output_type": "display_data"
    }
   ],
   "source": [
    "plt.plot(range(1,30, 1), rmses_train, label='RMSE Training')\n",
    "plt.plot(range(1,30, 1), rmses_test, label='RMSE Testing')\n",
    "plt.ylim((0, 30000))\n",
    "plt.legend(loc=\"best\")\n",
    "plt.title(\"RMSE Training vs RMSE Testing para KNN\")\n",
    "plt.show()"
   ]
  },
  {
   "cell_type": "markdown",
   "metadata": {},
   "source": [
    "Viendo este gráfico se puede concluir, que a diferencia del arbol de decisión, al aumentar los vecinos considerados en el modelo, la diferencia entre los resultados de training y testing es menor y por lo tanto mayor ajuste."
   ]
  },
  {
   "cell_type": "markdown",
   "metadata": {},
   "source": [
    "Por último se calcula el RMSE promedio resultante del cross validation para un árbol de decisión. \n",
    "Como parámetros se aplican: \n",
    "- 10 folds\n",
    "- Profundidad 5\n",
    "- Scoring neg_mean_squared_error\n",
    "\n",
    "**Nota:** 'cross_validation_score' de Scikit-learn utiliza la métrica NMSE (neg_mean_squared_error) en lugar de MSE (mean_square_error), es decir MSE pero con signo negativo.\n",
    "\n",
    "Para obtener el MSE, que es el que se necesita (en este caso), se calcula sobre él el RMSE, se define el método 'nmsq2rmse' para hacer la conversión de NMSE a MSE. El árbol de decisión es guardado en una variable llamada 'regressor'."
   ]
  },
  {
   "cell_type": "code",
   "execution_count": 33,
   "metadata": {},
   "outputs": [],
   "source": [
    "def nmsq2rmse(score):\n",
    "    return np.sqrt(-score)"
   ]
  },
  {
   "cell_type": "code",
   "execution_count": 34,
   "metadata": {},
   "outputs": [
    {
     "data": {
      "text/plain": [
       "22104.89126628981"
      ]
     },
     "execution_count": 34,
     "metadata": {},
     "output_type": "execute_result"
    }
   ],
   "source": [
    "from sklearn.model_selection import cross_val_score\n",
    "regressor = DecisionTreeRegressor(max_depth=5, random_state=0)\n",
    "regressor.fit(X_train, y_train)\n",
    "score = cross_val_score(regressor, X_train, y_train,\n",
    "                             scoring=\"neg_mean_squared_error\", cv=10)\n",
    "\n",
    "rmses = np.sqrt(-score)\n",
    "rmses.mean()"
   ]
  },
  {
   "cell_type": "markdown",
   "metadata": {},
   "source": [
    "Para ver el resultado final, se reentrena el regresor y se muestra en un dataframe la comparación entre los valores reales, los predichos y su diferencia."
   ]
  },
  {
   "cell_type": "code",
   "execution_count": 35,
   "metadata": {},
   "outputs": [],
   "source": [
    "regressor.fit(X_train, y_train)\n",
    "y_pred = regressor.predict(X_test)\n",
    "val_real = pd.Series(y_test.values)\n",
    "val_pred = pd.Series(y_pred)"
   ]
  },
  {
   "cell_type": "code",
   "execution_count": 36,
   "metadata": {},
   "outputs": [],
   "source": [
    "predicciones = pd.concat([val_real.rename('Valor real'),val_pred.rename('Valor Pred') ,abs(val_real-val_pred).rename('Dif(+/-)')] ,  axis=1)"
   ]
  },
  {
   "cell_type": "code",
   "execution_count": 37,
   "metadata": {},
   "outputs": [
    {
     "data": {
      "text/html": [
       "<div>\n",
       "<style scoped>\n",
       "    .dataframe tbody tr th:only-of-type {\n",
       "        vertical-align: middle;\n",
       "    }\n",
       "\n",
       "    .dataframe tbody tr th {\n",
       "        vertical-align: top;\n",
       "    }\n",
       "\n",
       "    .dataframe thead th {\n",
       "        text-align: right;\n",
       "    }\n",
       "</style>\n",
       "<table border=\"1\" class=\"dataframe\">\n",
       "  <thead>\n",
       "    <tr style=\"text-align: right;\">\n",
       "      <th></th>\n",
       "      <th>Valor real</th>\n",
       "      <th>Valor Pred</th>\n",
       "      <th>Dif(+/-)</th>\n",
       "    </tr>\n",
       "  </thead>\n",
       "  <tbody>\n",
       "    <tr>\n",
       "      <th>0</th>\n",
       "      <td>76000.000</td>\n",
       "      <td>85303.622</td>\n",
       "      <td>9303.622</td>\n",
       "    </tr>\n",
       "    <tr>\n",
       "      <th>1</th>\n",
       "      <td>106000.000</td>\n",
       "      <td>147326.850</td>\n",
       "      <td>41326.850</td>\n",
       "    </tr>\n",
       "    <tr>\n",
       "      <th>2</th>\n",
       "      <td>150000.000</td>\n",
       "      <td>142555.341</td>\n",
       "      <td>7444.659</td>\n",
       "    </tr>\n",
       "    <tr>\n",
       "      <th>3</th>\n",
       "      <td>95000.000</td>\n",
       "      <td>100195.158</td>\n",
       "      <td>5195.158</td>\n",
       "    </tr>\n",
       "    <tr>\n",
       "      <th>4</th>\n",
       "      <td>67000.000</td>\n",
       "      <td>87812.382</td>\n",
       "      <td>20812.382</td>\n",
       "    </tr>\n",
       "    <tr>\n",
       "      <th>5</th>\n",
       "      <td>145000.000</td>\n",
       "      <td>137856.099</td>\n",
       "      <td>7143.901</td>\n",
       "    </tr>\n",
       "    <tr>\n",
       "      <th>6</th>\n",
       "      <td>114000.000</td>\n",
       "      <td>112377.354</td>\n",
       "      <td>1622.646</td>\n",
       "    </tr>\n",
       "    <tr>\n",
       "      <th>7</th>\n",
       "      <td>167300.000</td>\n",
       "      <td>143489.900</td>\n",
       "      <td>23810.100</td>\n",
       "    </tr>\n",
       "    <tr>\n",
       "      <th>8</th>\n",
       "      <td>98000.000</td>\n",
       "      <td>112377.354</td>\n",
       "      <td>14377.354</td>\n",
       "    </tr>\n",
       "    <tr>\n",
       "      <th>9</th>\n",
       "      <td>98000.000</td>\n",
       "      <td>128958.993</td>\n",
       "      <td>30958.993</td>\n",
       "    </tr>\n",
       "  </tbody>\n",
       "</table>\n",
       "</div>"
      ],
      "text/plain": [
       "   Valor real  Valor Pred  Dif(+/-)\n",
       "0   76000.000   85303.622  9303.622\n",
       "1  106000.000  147326.850 41326.850\n",
       "2  150000.000  142555.341  7444.659\n",
       "3   95000.000  100195.158  5195.158\n",
       "4   67000.000   87812.382 20812.382\n",
       "5  145000.000  137856.099  7143.901\n",
       "6  114000.000  112377.354  1622.646\n",
       "7  167300.000  143489.900 23810.100\n",
       "8   98000.000  112377.354 14377.354\n",
       "9   98000.000  128958.993 30958.993"
      ]
     },
     "execution_count": 37,
     "metadata": {},
     "output_type": "execute_result"
    }
   ],
   "source": [
    "predicciones.head(10)"
   ]
  }
 ],
 "metadata": {
  "kernelspec": {
   "display_name": "Python 3",
   "language": "python",
   "name": "python3"
  },
  "language_info": {
   "codemirror_mode": {
    "name": "ipython",
    "version": 3
   },
   "file_extension": ".py",
   "mimetype": "text/x-python",
   "name": "python",
   "nbconvert_exporter": "python",
   "pygments_lexer": "ipython3",
   "version": "3.7.6"
  }
 },
 "nbformat": 4,
 "nbformat_minor": 2
}
